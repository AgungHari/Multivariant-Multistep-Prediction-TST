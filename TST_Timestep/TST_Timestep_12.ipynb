{
 "cells": [
  {
   "cell_type": "code",
   "execution_count": 1,
   "metadata": {},
   "outputs": [],
   "source": [
    "import torch\n",
    "import torch.nn as nn\n",
    "import torch.nn.functional as F\n",
    "import torch.optim as optim\n",
    "import matplotlib.pyplot as plt\n",
    "import numpy as np\n",
    "import pandas as pd\n",
    "import joblib\n",
    "from sklearn.preprocessing import MinMaxScaler\n",
    "from sklearn.model_selection import train_test_split\n",
    "from torch.utils.data import Dataset, DataLoader\n",
    "from tst_model import TST"
   ]
  },
  {
   "cell_type": "code",
   "execution_count": 2,
   "metadata": {},
   "outputs": [],
   "source": [
    "# USDCHFM5.csv ['DateTime','Open', 'High', 'Low', 'Close', 'Volume', 'Extra'] , USDCHF1440.csv ['DateTime','Time' ,'Open', 'High', 'Low', 'Close', 'Volume', 'Extra']\n",
    "colnames = ['DateTime','Open', 'High', 'Low', 'Close', 'Volume', 'Extra']"
   ]
  },
  {
   "cell_type": "code",
   "execution_count": 3,
   "metadata": {},
   "outputs": [],
   "source": [
    "# USDCHFM5.csv use UTF 16 encoding Format USDCHF1440.csv use UTF 8 encoding format\n",
    "df = pd.read_csv(\n",
    "    'USDCHFM5.csv',\n",
    "    encoding='utf-16',\n",
    "    header=None,\n",
    "    names=colnames\n",
    ")"
   ]
  },
  {
   "cell_type": "code",
   "execution_count": 4,
   "metadata": {},
   "outputs": [
    {
     "name": "stdout",
     "output_type": "stream",
     "text": [
      "                        Open     High      Low    Close  Volume  Extra\n",
      "DateTime                                                              \n",
      "2022-07-12 09:15:00  0.98360  0.98430  0.98358  0.98407     473      0\n",
      "2022-07-12 09:20:00  0.98408  0.98427  0.98359  0.98390     462      0\n",
      "2022-07-12 09:25:00  0.98389  0.98422  0.98355  0.98412     454      0\n",
      "2022-07-12 09:30:00  0.98413  0.98451  0.98363  0.98390     581      0\n",
      "2022-07-12 09:35:00  0.98390  0.98428  0.98370  0.98423     540      0\n",
      "Open      float64\n",
      "High      float64\n",
      "Low       float64\n",
      "Close     float64\n",
      "Volume      int64\n",
      "Extra       int64\n",
      "dtype: object\n"
     ]
    }
   ],
   "source": [
    "\n",
    "# Konversi kolom DateTime ke tipe datetime, lalu jadikan index\n",
    "df['DateTime'] = pd.to_datetime(df['DateTime'], format='%Y.%m.%d %H:%M')\n",
    "df.set_index('DateTime', inplace=True)\n",
    "\n",
    "# Print bossku\n",
    "print(df.head())\n",
    "print(df.dtypes)"
   ]
  },
  {
   "cell_type": "code",
   "execution_count": 5,
   "metadata": {},
   "outputs": [
    {
     "name": "stdout",
     "output_type": "stream",
     "text": [
      "                        Open     High      Low    Close\n",
      "DateTime                                               \n",
      "2022-07-12 09:15:00  0.98360  0.98430  0.98358  0.98407\n",
      "2022-07-12 09:20:00  0.98408  0.98427  0.98359  0.98390\n",
      "2022-07-12 09:25:00  0.98389  0.98422  0.98355  0.98412\n",
      "2022-07-12 09:30:00  0.98413  0.98451  0.98363  0.98390\n",
      "2022-07-12 09:35:00  0.98390  0.98428  0.98370  0.98423\n"
     ]
    }
   ],
   "source": [
    "# Jika ingin hanya mengambil kolom OHLC, bisa tambahkan volume dkk\n",
    "ohlc = df[['Open','High','Low','Close']]\n",
    "print(ohlc.head())"
   ]
  },
  {
   "cell_type": "code",
   "execution_count": 6,
   "metadata": {},
   "outputs": [
    {
     "name": "stdout",
     "output_type": "stream",
     "text": [
      "Contoh hasil normalisasi: [[0.80523968 0.80857609 0.80841416 0.8081925 ]\n",
      " [0.80825532 0.80838774 0.80847714 0.80712446]\n",
      " [0.80706163 0.80807383 0.80822522 0.80850663]]\n",
      "Scaler saved to 'scaler.save'\n"
     ]
    }
   ],
   "source": [
    "scaler = MinMaxScaler(feature_range=(0, 1))\n",
    "ohlc_scaled = scaler.fit_transform(ohlc)\n",
    "print(\"Contoh hasil normalisasi:\", ohlc_scaled[:3])\n",
    "\n",
    "# ⬇️ Simpan scaler ke file\n",
    "joblib.dump(scaler, \"scalerTST.save\")\n",
    "print(\"Scaler saved to 'scaler.save'\")"
   ]
  },
  {
   "cell_type": "code",
   "execution_count": 7,
   "metadata": {},
   "outputs": [],
   "source": [
    "def create_multistep_dataset(data, window_size=12, steps_ahead=5):\n",
    "    X, y = [], []\n",
    "    for i in range(len(data) - window_size - steps_ahead):\n",
    "        X.append(data[i:i + window_size])\n",
    "        y.append(data[i + window_size:i + window_size + steps_ahead])\n",
    "    return np.array(X), np.array(y)"
   ]
  },
  {
   "cell_type": "code",
   "execution_count": 8,
   "metadata": {},
   "outputs": [],
   "source": [
    "window_size = 12     # 1 jam (jika data pakai dataset usdchfm5)\n",
    "steps_ahead = 5      # prediksi 5 bar ke depan 5x5menit = 25 menit"
   ]
  },
  {
   "cell_type": "code",
   "execution_count": 9,
   "metadata": {},
   "outputs": [
    {
     "name": "stdout",
     "output_type": "stream",
     "text": [
      "X shape: (99998, 12, 4)\n",
      "y shape: (99998, 5, 4)\n"
     ]
    }
   ],
   "source": [
    "X, y = create_multistep_dataset(ohlc_scaled, window_size, steps_ahead)\n",
    "print(\"X shape:\", X.shape)  # (samples, 12, 4) 12 timestep dengan 4 fitur dataset OHLC gacor\n",
    "print(\"y shape:\", y.shape)  # (samples, 5, 4) 5 timestep prediksi ahead dengan4 fitur dataset OHLC gacor"
   ]
  },
  {
   "cell_type": "code",
   "execution_count": 10,
   "metadata": {},
   "outputs": [],
   "source": [
    "# Split train-test tanpa shuffle (biar tetap urutan waktu)\n",
    "X_train, X_test, y_train, y_test = train_test_split(X, y, test_size=0.2, shuffle=False)"
   ]
  },
  {
   "cell_type": "code",
   "execution_count": 11,
   "metadata": {},
   "outputs": [
    {
     "name": "stdout",
     "output_type": "stream",
     "text": [
      "X_train shape: (79998, 12, 4)\n",
      "y_train shape: (79998, 5, 4)\n",
      "X_test shape : (20000, 12, 4)\n",
      "y_test shape : (20000, 5, 4)\n"
     ]
    }
   ],
   "source": [
    "print(\"X_train shape:\", X_train.shape)\n",
    "print(\"y_train shape:\", y_train.shape)\n",
    "print(\"X_test shape :\", X_test.shape)\n",
    "print(\"y_test shape :\", y_test.shape)"
   ]
  },
  {
   "cell_type": "code",
   "execution_count": 12,
   "metadata": {},
   "outputs": [],
   "source": [
    "\n",
    "\n",
    "class OHLCMultiStepDataset(Dataset):\n",
    "    def __init__(self, X, y):\n",
    "        self.X = torch.tensor(X, dtype=torch.float32)\n",
    "        self.y = torch.tensor(y, dtype=torch.float32)\n",
    "        \n",
    "    def __len__(self):\n",
    "        return len(self.X)\n",
    "    \n",
    "    def __getitem__(self, idx):\n",
    "        return self.X[idx], self.y[idx]\n",
    "\n",
    "train_dataset = OHLCMultiStepDataset(X_train, y_train)\n",
    "test_dataset = OHLCMultiStepDataset(X_test, y_test)\n",
    "\n",
    "train_loader = DataLoader(train_dataset, batch_size=64, shuffle=True)\n",
    "test_loader = DataLoader(test_dataset, batch_size=64, shuffle=False)\n"
   ]
  },
  {
   "cell_type": "code",
   "execution_count": 13,
   "metadata": {},
   "outputs": [
    {
     "name": "stdout",
     "output_type": "stream",
     "text": [
      "X_batch shape: torch.Size([64, 12, 4])\n",
      "y_batch shape: torch.Size([64, 5, 4])\n",
      "Contoh X_batch[0]:\n",
      " tensor([[0.2324, 0.2323, 0.2342, 0.2326],\n",
      "        [0.2326, 0.2320, 0.2343, 0.2327],\n",
      "        [0.2328, 0.2325, 0.2347, 0.2330],\n",
      "        [0.2331, 0.2324, 0.2342, 0.2323],\n",
      "        [0.2323, 0.2317, 0.2338, 0.2323],\n",
      "        [0.2323, 0.2318, 0.2333, 0.2315],\n",
      "        [0.2315, 0.2313, 0.2334, 0.2320],\n",
      "        [0.2320, 0.2317, 0.2338, 0.2320],\n",
      "        [0.2320, 0.2314, 0.2322, 0.2316],\n",
      "        [0.2316, 0.2318, 0.2333, 0.2321],\n",
      "        [0.2323, 0.2336, 0.2342, 0.2335],\n",
      "        [0.2335, 0.2332, 0.2341, 0.2331]])\n",
      "Contoh y_batch[0]:\n",
      " tensor([[0.2330, 0.2328, 0.2341, 0.2322],\n",
      "        [0.2323, 0.2319, 0.2337, 0.2319],\n",
      "        [0.2318, 0.2312, 0.2325, 0.2306],\n",
      "        [0.2306, 0.2300, 0.2316, 0.2299],\n",
      "        [0.2299, 0.2302, 0.2304, 0.2295]])\n"
     ]
    }
   ],
   "source": [
    "# Ambil satu batch dari train_loader\n",
    "for X_batch, y_batch in train_loader:\n",
    "    print(\"X_batch shape:\", X_batch.shape)\n",
    "    print(\"y_batch shape:\", y_batch.shape)\n",
    "    print(\"Contoh X_batch[0]:\\n\", X_batch[0])\n",
    "    print(\"Contoh y_batch[0]:\\n\", y_batch[0])\n",
    "    break  # supaya hanya print 1 batch\n"
   ]
  },
  {
   "cell_type": "code",
   "execution_count": 14,
   "metadata": {},
   "outputs": [
    {
     "name": "stdout",
     "output_type": "stream",
     "text": [
      "TST(\n",
      "  (W_P): Linear(in_features=4, out_features=128, bias=True)\n",
      "  (dropout): Dropout(p=0.1, inplace=False)\n",
      "  (encoder): _TSTEncoder(\n",
      "    (layers): ModuleList(\n",
      "      (0-2): 3 x _TSTEncoderLayer(\n",
      "        (self_attn): _MultiHeadAttention(\n",
      "          (W_Q): Linear(in_features=128, out_features=128, bias=False)\n",
      "          (W_K): Linear(in_features=128, out_features=128, bias=False)\n",
      "          (W_V): Linear(in_features=128, out_features=128, bias=False)\n",
      "          (W_O): Linear(in_features=128, out_features=128, bias=False)\n",
      "          (attention): _ScaledDotProductAttention()\n",
      "        )\n",
      "        (dropout_attn): Dropout(p=0.1, inplace=False)\n",
      "        (batchnorm_attn): Sequential(\n",
      "          (0): Transpose()\n",
      "          (1): BatchNorm1d(128, eps=1e-05, momentum=0.1, affine=True, track_running_stats=True)\n",
      "          (2): Transpose()\n",
      "        )\n",
      "        (ff): Sequential(\n",
      "          (0): Linear(in_features=128, out_features=256, bias=True)\n",
      "          (1): GELU(approximate='none')\n",
      "          (2): Dropout(p=0.1, inplace=False)\n",
      "          (3): Linear(in_features=256, out_features=128, bias=True)\n",
      "        )\n",
      "        (dropout_ffn): Dropout(p=0.1, inplace=False)\n",
      "        (batchnorm_ffn): Sequential(\n",
      "          (0): Transpose()\n",
      "          (1): BatchNorm1d(128, eps=1e-05, momentum=0.1, affine=True, track_running_stats=True)\n",
      "          (2): Transpose()\n",
      "        )\n",
      "      )\n",
      "    )\n",
      "  )\n",
      "  (flatten): Flatten()\n",
      "  (head): Sequential(\n",
      "    (0): GELU(approximate='none')\n",
      "    (1): Flatten()\n",
      "    (2): Linear(in_features=1536, out_features=20, bias=True)\n",
      "  )\n",
      ")\n"
     ]
    }
   ],
   "source": [
    "device = torch.device(\"cuda\" if torch.cuda.is_available() else \"cpu\")\n",
    "\n",
    "model = TST(c_in=4, c_out=5*4, seq_len=12).to(device)  # pastikan output 20\n",
    "criterion = nn.MSELoss()\n",
    "optimizer = optim.Adam(model.parameters(), lr=1e-3)\n",
    "print(model)\n",
    "\n",
    "# TST(\n",
    "#     c_in=4,\n",
    "#     c_out=5*4,\n",
    "#     seq_len=12,\n",
    "#     d_model=128,           # Dimensi embedding / representasi\n",
    "#     n_heads=8,             # Jumlah attention head\n",
    "#     d_k=16, d_v=16,        # Dimensi masing-masing head (opsional)\n",
    "#     n_layers=3,            # Jumlah encoder layer\n",
    "#     d_ff=256,              # Ukuran hidden layer pada feedforward\n",
    "#     dropout=0.1,           # Dropout seluruh network\n",
    "#     fc_dropout=0.0,        # Dropout pada final dense layer\n",
    "#     act=\"gelu\",            # Fungsi aktivasi (bisa diganti 'relu')\n",
    "#     y_range=None,          # Bisa pakai range sigmoid output (contoh: (0,1))\n",
    "# )\n"
   ]
  },
  {
   "cell_type": "code",
   "execution_count": 15,
   "metadata": {},
   "outputs": [],
   "source": [
    "# Model\n",
    "model = TST(c_in=4, c_out=5*4, seq_len=12).to(device)\n"
   ]
  },
  {
   "cell_type": "code",
   "execution_count": 16,
   "metadata": {},
   "outputs": [],
   "source": [
    "# Loss dan optimizer\n",
    "criterion = nn.MSELoss()\n",
    "optimizer = optim.Adam(model.parameters(), lr=1e-3)\n"
   ]
  },
  {
   "cell_type": "code",
   "execution_count": 17,
   "metadata": {},
   "outputs": [
    {
     "name": "stdout",
     "output_type": "stream",
     "text": [
      "Epoch 01/10 - Train Loss: 0.006014 - Val Loss: 0.000356\n",
      "Epoch 02/10 - Train Loss: 0.002289 - Val Loss: 0.002264\n",
      "Epoch 03/10 - Train Loss: 0.001886 - Val Loss: 0.000903\n",
      "Epoch 04/10 - Train Loss: 0.001625 - Val Loss: 0.000752\n",
      "Epoch 05/10 - Train Loss: 0.001592 - Val Loss: 0.000251\n",
      "Epoch 06/10 - Train Loss: 0.001454 - Val Loss: 0.001954\n",
      "Epoch 07/10 - Train Loss: 0.001837 - Val Loss: 0.003895\n",
      "Epoch 08/10 - Train Loss: 0.001640 - Val Loss: 0.000072\n",
      "Epoch 09/10 - Train Loss: 0.001370 - Val Loss: 0.000675\n",
      "Epoch 10/10 - Train Loss: 0.001393 - Val Loss: 0.000129\n"
     ]
    }
   ],
   "source": [
    "# Config manual\n",
    "epochs = 10\n",
    "verbose = True\n",
    "\n",
    "# Tracking loss\n",
    "train_losses = []\n",
    "val_losses = []\n",
    "\n",
    "for epoch in range(1, epochs + 1):\n",
    "    model.train()\n",
    "    total_loss = 0\n",
    "\n",
    "    for X_batch, y_batch in train_loader:\n",
    "        X_batch = X_batch.to(device).permute(0, 2, 1)\n",
    "        y_batch = y_batch.to(device)\n",
    "\n",
    "        optimizer.zero_grad()\n",
    "        output = model(X_batch).view(-1, 5, 4)\n",
    "        loss = criterion(output, y_batch)\n",
    "        loss.backward()\n",
    "        optimizer.step()\n",
    "        total_loss += loss.item()\n",
    "\n",
    "    avg_train_loss = total_loss / len(train_loader)\n",
    "    train_losses.append(avg_train_loss)\n",
    "\n",
    "    # Validation step\n",
    "    model.eval()\n",
    "    total_val_loss = 0\n",
    "    with torch.no_grad():\n",
    "        for X_batch, y_batch in test_loader:\n",
    "            X_batch = X_batch.to(device).permute(0, 2, 1)\n",
    "            y_batch = y_batch.to(device)\n",
    "\n",
    "            output = model(X_batch).view(-1, 5, 4)\n",
    "            val_loss = criterion(output, y_batch)\n",
    "            total_val_loss += val_loss.item()\n",
    "\n",
    "    avg_val_loss = total_val_loss / len(test_loader)\n",
    "    val_losses.append(avg_val_loss)\n",
    "\n",
    "    if verbose:\n",
    "        print(f\"Epoch {epoch:02d}/{epochs} - Train Loss: {avg_train_loss:.6f} - Val Loss: {avg_val_loss:.6f}\")\n"
   ]
  },
  {
   "cell_type": "code",
   "execution_count": 18,
   "metadata": {},
   "outputs": [
    {
     "data": {
      "image/png": "[encoded data removed]",
      "text/plain": [
       "<Figure size 1000x600 with 1 Axes>"
      ]
     },
     "metadata": {},
     "output_type": "display_data"
    }
   ],
   "source": [
    "plt.figure(figsize=(10, 6))\n",
    "plt.plot(train_losses, label='Train Loss')\n",
    "plt.plot(val_losses, label='Validation Loss')\n",
    "plt.title('Training and Validation Loss per Epoch')\n",
    "plt.xlabel('Epoch')\n",
    "plt.ylabel('Loss (MSE)')\n",
    "plt.grid(True)\n",
    "plt.legend()\n",
    "plt.tight_layout()\n",
    "plt.show()\n"
   ]
  },
  {
   "cell_type": "code",
   "execution_count": 19,
   "metadata": {},
   "outputs": [
    {
     "name": "stdout",
     "output_type": "stream",
     "text": [
      "Model saved to 'tst_ohlc_model.pt'\n"
     ]
    }
   ],
   "source": [
    "#Mclarenlu warna apa bos?\n",
    "torch.save(model.state_dict(), \"tst_ohlc_model.pt\")\n",
    "print(\"Model saved to 'tst_ohlc_model.pt'\")\n"
   ]
  },
  {
   "cell_type": "code",
   "execution_count": 20,
   "metadata": {},
   "outputs": [
    {
     "name": "stdout",
     "output_type": "stream",
     "text": [
      "Hasil prediksi 5 langkah ke depan (Open, High, Low, Close):\n",
      "[[0.10835945 0.10752296 0.10871351 0.10691555]\n",
      " [0.10686657 0.10785483 0.10721529 0.10685772]\n",
      " [0.10772426 0.1077548  0.10771244 0.10628616]\n",
      " [0.10623041 0.10671374 0.1073789  0.10591806]\n",
      " [0.10532973 0.10670079 0.10693719 0.10655707]]\n",
      "[[[0.10835945 0.10752296 0.10871351 0.10691555]\n",
      "  [0.10686657 0.10785483 0.10721529 0.10685772]\n",
      "  [0.10772426 0.1077548  0.10771244 0.10628616]\n",
      "  [0.10623041 0.10671374 0.1073789  0.10591806]\n",
      "  [0.10532973 0.10670079 0.10693719 0.10655707]]]\n"
     ]
    }
   ],
   "source": [
    "# Ambil satu sample dari test set\n",
    "sample_input = X_test[0]  # shape: (12, 4)\n",
    "sample_input = torch.tensor(sample_input, dtype=torch.float32).unsqueeze(0)  # (1, 12, 4)\n",
    "sample_input = sample_input.permute(0, 2, 1).to(device)  # jadi (1, 4, 12)\n",
    "\n",
    "# Load model dan jalankan prediksi\n",
    "model.eval()\n",
    "with torch.no_grad():\n",
    "    output = model(sample_input).view(-1, 5, 4).cpu().numpy()  # (1, 5, 4) → (5, 4)\n",
    "\n",
    "# Tampilkan hasil prediksi\n",
    "print(\"Hasil prediksi 5 langkah ke depan (Open, High, Low, Close):\")\n",
    "print(output[0])  # prediksi untuk langkah ke-1\n",
    "print(output)     # semua 5 langkah"
   ]
  },
  {
   "cell_type": "code",
   "execution_count": null,
   "metadata": {},
   "outputs": [],
   "source": []
  }
 ],
 "metadata": {
  "kernelspec": {
   "display_name": ".venv",
   "language": "python",
   "name": "python3"
  },
  "language_info": {
   "codemirror_mode": {
    "name": "ipython",
    "version": 3
   },
   "file_extension": ".py",
   "mimetype": "text/x-python",
   "name": "python",
   "nbconvert_exporter": "python",
   "pygments_lexer": "ipython3",
   "version": "3.9.12"
  }
 },
 "nbformat": 4,
 "nbformat_minor": 2
}
